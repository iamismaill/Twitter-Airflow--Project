{
 "cells": [
  {
   "cell_type": "code",
   "execution_count": 3,
   "metadata": {},
   "outputs": [
    {
     "data": {
      "text/html": [
       "<div>\n",
       "<style scoped>\n",
       "    .dataframe tbody tr th:only-of-type {\n",
       "        vertical-align: middle;\n",
       "    }\n",
       "\n",
       "    .dataframe tbody tr th {\n",
       "        vertical-align: top;\n",
       "    }\n",
       "\n",
       "    .dataframe thead th {\n",
       "        text-align: right;\n",
       "    }\n",
       "</style>\n",
       "<table border=\"1\" class=\"dataframe\">\n",
       "  <thead>\n",
       "    <tr style=\"text-align: right;\">\n",
       "      <th></th>\n",
       "      <th>Unnamed: 0</th>\n",
       "      <th>user</th>\n",
       "      <th>text</th>\n",
       "      <th>favourite_count</th>\n",
       "      <th>retweet_count</th>\n",
       "      <th>created_at</th>\n",
       "    </tr>\n",
       "  </thead>\n",
       "  <tbody>\n",
       "    <tr>\n",
       "      <th>0</th>\n",
       "      <td>0</td>\n",
       "      <td>iamismail__</td>\n",
       "      <td>@abdirashidmd @NASEMTRB @huyenkle Congrats 형 ,...</td>\n",
       "      <td>1</td>\n",
       "      <td>0</td>\n",
       "      <td>2022-09-27 16:32:27+00:00</td>\n",
       "    </tr>\n",
       "    <tr>\n",
       "      <th>1</th>\n",
       "      <td>1</td>\n",
       "      <td>iamismail__</td>\n",
       "      <td>@FarhiaDiinii @ritsumeikanapu @Dahirhasan @jic...</td>\n",
       "      <td>1</td>\n",
       "      <td>0</td>\n",
       "      <td>2022-09-17 10:48:57+00:00</td>\n",
       "    </tr>\n",
       "    <tr>\n",
       "      <th>2</th>\n",
       "      <td>2</td>\n",
       "      <td>iamismail__</td>\n",
       "      <td>@habondali @SchwarzmanOrg @Tsinghua_Uni Congra...</td>\n",
       "      <td>0</td>\n",
       "      <td>0</td>\n",
       "      <td>2022-09-15 10:26:52+00:00</td>\n",
       "    </tr>\n",
       "    <tr>\n",
       "      <th>3</th>\n",
       "      <td>3</td>\n",
       "      <td>iamismail__</td>\n",
       "      <td>@ibradheere @Toyo_Uni Congrats walaal !</td>\n",
       "      <td>1</td>\n",
       "      <td>0</td>\n",
       "      <td>2022-09-15 10:10:11+00:00</td>\n",
       "    </tr>\n",
       "    <tr>\n",
       "      <th>4</th>\n",
       "      <td>4</td>\n",
       "      <td>iamismail__</td>\n",
       "      <td>@ZeinabHirsiMoh4 잘 했어요 여동생 , 계속 열심히 공부해요 , 한국어...</td>\n",
       "      <td>1</td>\n",
       "      <td>0</td>\n",
       "      <td>2022-09-14 15:27:09+00:00</td>\n",
       "    </tr>\n",
       "  </tbody>\n",
       "</table>\n",
       "</div>"
      ],
      "text/plain": [
       "   Unnamed: 0         user                                               text  \\\n",
       "0           0  iamismail__  @abdirashidmd @NASEMTRB @huyenkle Congrats 형 ,...   \n",
       "1           1  iamismail__  @FarhiaDiinii @ritsumeikanapu @Dahirhasan @jic...   \n",
       "2           2  iamismail__  @habondali @SchwarzmanOrg @Tsinghua_Uni Congra...   \n",
       "3           3  iamismail__            @ibradheere @Toyo_Uni Congrats walaal !   \n",
       "4           4  iamismail__  @ZeinabHirsiMoh4 잘 했어요 여동생 , 계속 열심히 공부해요 , 한국어...   \n",
       "\n",
       "   favourite_count  retweet_count                 created_at  \n",
       "0                1              0  2022-09-27 16:32:27+00:00  \n",
       "1                1              0  2022-09-17 10:48:57+00:00  \n",
       "2                0              0  2022-09-15 10:26:52+00:00  \n",
       "3                1              0  2022-09-15 10:10:11+00:00  \n",
       "4                1              0  2022-09-14 15:27:09+00:00  "
      ]
     },
     "execution_count": 3,
     "metadata": {},
     "output_type": "execute_result"
    }
   ],
   "source": [
    "import pandas as pd \n",
    "data = pd.read_csv(\"ismail_twitter.csv\")\n",
    "data.head()"
   ]
  }
 ],
 "metadata": {
  "interpreter": {
   "hash": "c6e4e9f98eb68ad3b7c296f83d20e6de614cb42e90992a65aa266555a3137d0d"
  },
  "kernelspec": {
   "display_name": "Python 3.9.7 ('base')",
   "language": "python",
   "name": "python3"
  },
  "language_info": {
   "codemirror_mode": {
    "name": "ipython",
    "version": 3
   },
   "file_extension": ".py",
   "mimetype": "text/x-python",
   "name": "python",
   "nbconvert_exporter": "python",
   "pygments_lexer": "ipython3",
   "version": "3.9.7"
  },
  "orig_nbformat": 4
 },
 "nbformat": 4,
 "nbformat_minor": 2
}
